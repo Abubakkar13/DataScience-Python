{
 "cells": [
  {
   "cell_type": "markdown",
   "metadata": {},
   "source": [
    "# Mean, Median, Mode, and introducing NumPy"
   ]
  },
  {
   "cell_type": "markdown",
   "metadata": {},
   "source": [
    "## Mean vs. Median"
   ]
  },
  {
   "cell_type": "markdown",
   "metadata": {},
   "source": [
    "Let's create some fake income data, centered around 27,000 with a normal distribution and standard deviation of 15,000, with 10,000 data points. (We'll discuss those terms more later, if you're not familiar with them.)\n",
    "\n",
    "Then, compute the mean (average) - it should be close to 27,000:"
   ]
  },
  {
   "cell_type": "code",
   "execution_count": 1,
   "metadata": {
    "collapsed": false
   },
   "outputs": [
    {
     "data": {
      "text/plain": [
       "26823.799065863121"
      ]
     },
     "execution_count": 1,
     "metadata": {},
     "output_type": "execute_result"
    }
   ],
   "source": [
    "import numpy as np\n",
    "\n",
    "incomes = np.random.normal(27000, 15000, 10000)\n",
    "np.mean(incomes)"
   ]
  },
  {
   "cell_type": "markdown",
   "metadata": {},
   "source": [
    "We can segment the income data into 50 buckets, and plot it as a histogram:"
   ]
  },
  {
   "cell_type": "code",
   "execution_count": 2,
   "metadata": {
    "collapsed": false
   },
   "outputs": [
    {
     "data": {
      "image/png": "[encoded data removed]",
      "text/plain": [
       "<matplotlib.figure.Figure at 0x10e5f1588>"
      ]
     },
     "metadata": {},
     "output_type": "display_data"
    }
   ],
   "source": [
    "%matplotlib inline\n",
    "import matplotlib.pyplot as plt\n",
    "plt.hist(incomes, 50)\n",
    "plt.show()"
   ]
  },
  {
   "cell_type": "markdown",
   "metadata": {},
   "source": [
    "Now compute the median - since we have a nice, even distribution it too should be close to 27,000:"
   ]
  },
  {
   "cell_type": "code",
   "execution_count": 3,
   "metadata": {
    "collapsed": false
   },
   "outputs": [
    {
     "data": {
      "text/plain": [
       "26654.515395168859"
      ]
     },
     "execution_count": 3,
     "metadata": {},
     "output_type": "execute_result"
    }
   ],
   "source": [
    "np.median(incomes)"
   ]
  },
  {
   "cell_type": "markdown",
   "metadata": {},
   "source": [
    "Now we'll add Donald Trump into the mix. Darn income inequality!"
   ]
  },
  {
   "cell_type": "code",
   "execution_count": 4,
   "metadata": {
    "collapsed": false
   },
   "outputs": [],
   "source": [
    "incomes = np.append(incomes, [1000000000])"
   ]
  },
  {
   "cell_type": "markdown",
   "metadata": {},
   "source": [
    "The median won't change much, but the mean does:"
   ]
  },
  {
   "cell_type": "code",
   "execution_count": 5,
   "metadata": {
    "collapsed": false
   },
   "outputs": [
    {
     "data": {
      "text/plain": [
       "26655.126408278349"
      ]
     },
     "execution_count": 5,
     "metadata": {},
     "output_type": "execute_result"
    }
   ],
   "source": [
    "np.median(incomes)"
   ]
  },
  {
   "cell_type": "code",
   "execution_count": 6,
   "metadata": {
    "collapsed": false
   },
   "outputs": [
    {
     "data": {
      "text/plain": [
       "126811.1179540677"
      ]
     },
     "execution_count": 6,
     "metadata": {},
     "output_type": "execute_result"
    }
   ],
   "source": [
    "np.mean(incomes)"
   ]
  },
  {
   "cell_type": "markdown",
   "metadata": {},
   "source": [
    "## Mode"
   ]
  },
  {
   "cell_type": "markdown",
   "metadata": {},
   "source": [
    "Next, let's generate some fake age data for 500 people:"
   ]
  },
  {
   "cell_type": "code",
   "execution_count": 7,
   "metadata": {
    "collapsed": false
   },
   "outputs": [
    {
     "data": {
      "text/plain": [
       "array([75, 18, 26, 54, 76, 85, 63, 23, 33, 31, 62, 39, 69, 29, 64, 55, 60,\n",
       "       56, 20, 39, 32, 83, 22, 29, 86, 26, 25, 63, 60, 87, 18, 68, 76, 27,\n",
       "       30, 54, 38, 56, 51, 82, 39, 25, 86, 40, 34, 51, 78, 47, 82, 82, 83,\n",
       "       66, 27, 48, 69, 32, 41, 77, 22, 87, 56, 80, 24, 82, 78, 43, 89, 84,\n",
       "       55, 86, 30, 77, 28, 85, 29, 45, 46, 30, 31, 45, 33, 77, 83, 89, 26,\n",
       "       39, 65, 32, 72, 43, 66, 64, 28, 38, 69, 30, 42, 75, 21, 87, 55, 74,\n",
       "       51, 77, 65, 22, 62, 61, 59, 50, 69, 81, 32, 27, 50, 20, 44, 51, 29,\n",
       "       37, 74, 33, 64, 64, 52, 84, 61, 61, 45, 36, 28, 18, 41, 31, 33, 76,\n",
       "       62, 53, 79, 44, 87, 29, 67, 39, 34, 69, 85, 70, 20, 76, 79, 25, 74,\n",
       "       30, 68, 49, 23, 68, 65, 29, 85, 36, 22, 73, 47, 46, 32, 70, 39, 81,\n",
       "       58, 32, 69, 53, 37, 18, 44, 41, 63, 31, 65, 87, 86, 75, 23, 28, 70,\n",
       "       21, 65, 30, 64, 82, 20, 21, 40, 53, 22, 81, 54, 66, 52, 61, 29, 64,\n",
       "       32, 75, 50, 52, 52, 81, 33, 81, 25, 35, 88, 29, 85, 88, 58, 29, 66,\n",
       "       27, 76, 26, 64, 28, 30, 20, 88, 85, 88, 37, 30, 68, 71, 67, 25, 36,\n",
       "       68, 31, 38, 71, 34, 26, 31, 56, 50, 49, 76, 31, 69, 76, 75, 28, 84,\n",
       "       62, 39, 70, 19, 79, 30, 28, 77, 25, 88, 19, 61, 40, 39, 21, 72, 73,\n",
       "       33, 46, 75, 53, 86, 59, 27, 50, 79, 62, 57, 72, 48, 36, 43, 30, 59,\n",
       "       59, 62, 57, 83, 46, 75, 66, 38, 56, 82, 29, 81, 43, 47, 63, 70, 47,\n",
       "       33, 48, 27, 18, 42, 56, 40, 89, 74, 74, 77, 74, 32, 66, 89, 61, 34,\n",
       "       56, 32, 81, 22, 66, 55, 42, 79, 22, 79, 30, 69, 18, 43, 88, 66, 23,\n",
       "       18, 37, 26, 24, 87, 28, 19, 70, 59, 66, 66, 25, 20, 45, 89, 46, 74,\n",
       "       52, 80, 24, 87, 53, 38, 56, 53, 33, 34, 62, 21, 37, 28, 82, 26, 51,\n",
       "       25, 41, 41, 63, 28, 86, 59, 73, 42, 78, 74, 24, 76, 77, 59, 60, 61,\n",
       "       69, 68, 21, 42, 57, 57, 64, 61, 78, 79, 38, 18, 43, 32, 48, 36, 82,\n",
       "       45, 38, 89, 36, 22, 71, 52, 31, 24, 61, 78, 42, 82, 53, 55, 71, 61,\n",
       "       22, 45, 49, 55, 77, 32, 56, 74, 39, 18, 84, 40, 79, 64, 36, 23, 76,\n",
       "       45, 26, 64, 87, 41, 84, 19, 83, 72, 78, 62, 89, 26, 80, 50, 20, 19,\n",
       "       80, 24, 51, 33, 70, 29, 59, 51, 63, 68, 80, 69, 49, 54, 87, 55, 27,\n",
       "       40, 47, 72, 24, 89, 58, 35, 25, 22, 39, 45, 50, 37, 57, 23, 72, 64,\n",
       "       58, 41, 55, 78, 33, 20, 56])"
      ]
     },
     "execution_count": 7,
     "metadata": {},
     "output_type": "execute_result"
    }
   ],
   "source": [
    "ages = np.random.randint(18, high=90, size=500)\n",
    "ages"
   ]
  },
  {
   "cell_type": "code",
   "execution_count": 8,
   "metadata": {
    "collapsed": false
   },
   "outputs": [
    {
     "data": {
      "text/plain": [
       "ModeResult(mode=array([29]), count=array([11]))"
      ]
     },
     "execution_count": 8,
     "metadata": {},
     "output_type": "execute_result"
    }
   ],
   "source": [
    "from scipy import stats\n",
    "stats.mode(ages)"
   ]
  }
 ],
 "metadata": {
  "kernelspec": {
   "display_name": "Python 3",
   "language": "python",
   "name": "python3"
  },
  "language_info": {
   "codemirror_mode": {
    "name": "ipython",
    "version": 3
   },
   "file_extension": ".py",
   "mimetype": "text/x-python",
   "name": "python",
   "nbconvert_exporter": "python",
   "pygments_lexer": "ipython3",
   "version": "3.6.0"
  }
 },
 "nbformat": 4,
 "nbformat_minor": 0
}
