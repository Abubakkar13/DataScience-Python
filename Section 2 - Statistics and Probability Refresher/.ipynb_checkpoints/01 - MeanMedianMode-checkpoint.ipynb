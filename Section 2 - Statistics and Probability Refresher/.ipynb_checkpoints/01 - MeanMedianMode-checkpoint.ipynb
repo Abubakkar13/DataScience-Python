{
 "cells": [
  {
   "cell_type": "markdown",
   "metadata": {},
   "source": [
    "# Mean, Median, Mode, and introducing NumPy"
   ]
  },
  {
   "cell_type": "markdown",
   "metadata": {},
   "source": [
    "## Mean vs. Median"
   ]
  },
  {
   "cell_type": "markdown",
   "metadata": {},
   "source": [
    "Let's create some fake income data, centered around 27,000 with a normal distribution and standard deviation of 15,000, with 10,000 data points. (We'll discuss those terms more later, if you're not familiar with them.)\n",
    "\n",
    "Then, compute the mean (average) - it should be close to 27,000:"
   ]
  },
  {
   "cell_type": "code",
   "execution_count": 1,
   "metadata": {
    "collapsed": false
   },
   "outputs": [
    {
     "data": {
      "text/plain": [
       "26804.50839757223"
      ]
     },
     "execution_count": 1,
     "metadata": {},
     "output_type": "execute_result"
    }
   ],
   "source": [
    "import numpy as np\n",
    "\n",
    "incomes = np.random.normal(27000, 15000, 10000)\n",
    "np.mean(incomes)"
   ]
  },
  {
   "cell_type": "markdown",
   "metadata": {},
   "source": [
    "We can segment the income data into 50 buckets, and plot it as a histogram:"
   ]
  },
  {
   "cell_type": "code",
   "execution_count": 2,
   "metadata": {
    "collapsed": false
   },
   "outputs": [
    {
     "data": {
      "image/png": "[encoded data removed]",
      "text/plain": [
       "<matplotlib.figure.Figure at 0x10c722748>"
      ]
     },
     "metadata": {},
     "output_type": "display_data"
    }
   ],
   "source": [
    "import matplotlib.pyplot as plt\n",
    "plt.hist(incomes, 50)\n",
    "plt.show()"
   ]
  },
  {
   "cell_type": "markdown",
   "metadata": {},
   "source": [
    "Now compute the median - since we have a nice, even distribution it too should be close to 27,000:"
   ]
  },
  {
   "cell_type": "code",
   "execution_count": 3,
   "metadata": {
    "collapsed": false
   },
   "outputs": [
    {
     "data": {
      "text/plain": [
       "26820.707557732028"
      ]
     },
     "execution_count": 3,
     "metadata": {},
     "output_type": "execute_result"
    }
   ],
   "source": [
    "np.median(incomes)"
   ]
  },
  {
   "cell_type": "markdown",
   "metadata": {},
   "source": [
    "Now we'll add Donald Trump into the mix. Darn income inequality!"
   ]
  },
  {
   "cell_type": "code",
   "execution_count": 4,
   "metadata": {
    "collapsed": false
   },
   "outputs": [],
   "source": [
    "incomes = np.append(incomes, [1000000000])"
   ]
  },
  {
   "cell_type": "markdown",
   "metadata": {},
   "source": [
    "The median won't change much, but the mean does:"
   ]
  },
  {
   "cell_type": "code",
   "execution_count": 5,
   "metadata": {
    "collapsed": false
   },
   "outputs": [
    {
     "data": {
      "text/plain": [
       "26822.864003820159"
      ]
     },
     "execution_count": 5,
     "metadata": {},
     "output_type": "execute_result"
    }
   ],
   "source": [
    "np.median(incomes)"
   ]
  },
  {
   "cell_type": "code",
   "execution_count": 6,
   "metadata": {
    "collapsed": false
   },
   "outputs": [
    {
     "data": {
      "text/plain": [
       "126791.82921465076"
      ]
     },
     "execution_count": 6,
     "metadata": {},
     "output_type": "execute_result"
    }
   ],
   "source": [
    "np.mean(incomes)"
   ]
  },
  {
   "cell_type": "markdown",
   "metadata": {},
   "source": [
    "## Mode"
   ]
  },
  {
   "cell_type": "markdown",
   "metadata": {},
   "source": [
    "Next, let's generate some fake age data for 500 people:"
   ]
  },
  {
   "cell_type": "code",
   "execution_count": 7,
   "metadata": {
    "collapsed": false
   },
   "outputs": [
    {
     "data": {
      "text/plain": [
       "array([88, 82, 40, 33, 83, 63, 55, 29, 74, 51, 25, 74, 26, 35, 42, 62, 53,\n",
       "       27, 60, 38, 26, 63, 69, 30, 58, 71, 19, 42, 86, 48, 55, 61, 31, 63,\n",
       "       81, 88, 22, 49, 48, 70, 85, 78, 28, 23, 29, 18, 68, 54, 48, 51, 69,\n",
       "       66, 40, 35, 70, 42, 68, 73, 83, 28, 75, 68, 25, 52, 37, 66, 51, 64,\n",
       "       55, 76, 66, 21, 23, 52, 47, 79, 48, 28, 18, 69, 28, 50, 63, 43, 21,\n",
       "       78, 49, 79, 21, 47, 58, 30, 36, 51, 34, 52, 22, 45, 51, 67, 18, 45,\n",
       "       71, 21, 26, 69, 85, 46, 50, 55, 50, 89, 40, 37, 58, 77, 32, 79, 38,\n",
       "       60, 21, 52, 67, 69, 52, 31, 51, 27, 70, 33, 40, 69, 70, 85, 73, 65,\n",
       "       73, 38, 89, 18, 60, 18, 22, 86, 47, 60, 27, 52, 54, 42, 67, 24, 43,\n",
       "       72, 24, 70, 88, 35, 54, 65, 35, 69, 80, 57, 43, 79, 68, 62, 18, 45,\n",
       "       44, 40, 59, 88, 87, 85, 45, 79, 32, 81, 58, 83, 79, 19, 24, 56, 23,\n",
       "       58, 21, 67, 38, 33, 30, 44, 88, 37, 61, 84, 78, 88, 18, 62, 82, 48,\n",
       "       69, 58, 89, 48, 80, 84, 72, 88, 77, 82, 21, 19, 71, 26, 74, 48, 55,\n",
       "       23, 81, 63, 52, 24, 69, 72, 50, 18, 50, 46, 61, 44, 34, 50, 50, 36,\n",
       "       33, 55, 84, 44, 79, 77, 62, 46, 19, 39, 77, 49, 44, 78, 40, 45, 52,\n",
       "       67, 53, 37, 58, 66, 73, 24, 39, 21, 18, 89, 28, 27, 69, 62, 74, 43,\n",
       "       63, 29, 69, 86, 36, 75, 55, 61, 55, 44, 89, 65, 64, 19, 59, 54, 49,\n",
       "       72, 83, 84, 33, 46, 84, 35, 74, 39, 32, 67, 22, 65, 37, 46, 18, 58,\n",
       "       41, 74, 74, 50, 74, 70, 82, 64, 55, 40, 33, 82, 21, 85, 51, 76, 84,\n",
       "       64, 48, 40, 70, 30, 77, 60, 67, 42, 49, 46, 51, 52, 43, 37, 35, 87,\n",
       "       54, 21, 29, 78, 44, 73, 31, 43, 34, 60, 23, 55, 45, 29, 37, 21, 72,\n",
       "       73, 33, 34, 71, 37, 60, 30, 31, 35, 82, 31, 83, 56, 61, 26, 18, 40,\n",
       "       30, 56, 84, 53, 80, 76, 39, 87, 20, 45, 30, 43, 20, 42, 45, 20, 70,\n",
       "       31, 26, 19, 36, 81, 74, 57, 86, 62, 62, 29, 30, 32, 67, 74, 34, 51,\n",
       "       55, 70, 60, 42, 61, 27, 66, 29, 32, 79, 24, 44, 74, 32, 52, 64, 22,\n",
       "       64, 34, 64, 21, 71, 38, 25, 40, 83, 42, 29, 74, 42, 81, 87, 45, 19,\n",
       "       74, 86, 42, 79, 84, 44, 73, 78, 75, 71, 44, 30, 75, 87, 51, 54, 61,\n",
       "       79, 42, 68, 68, 63, 58, 66, 28, 33, 25, 53, 41, 20, 47, 89, 25, 38,\n",
       "       19, 38, 18, 33, 52, 43, 86, 54, 54, 18, 47, 78, 22, 51, 38, 29, 72,\n",
       "       60, 70, 65, 27, 39, 62, 50])"
      ]
     },
     "execution_count": 7,
     "metadata": {},
     "output_type": "execute_result"
    }
   ],
   "source": [
    "ages = np.random.randint(18, high=90, size=500)\n",
    "ages"
   ]
  },
  {
   "cell_type": "code",
   "execution_count": 8,
   "metadata": {
    "collapsed": false
   },
   "outputs": [
    {
     "data": {
      "text/plain": [
       "ModeResult(mode=array([18]), count=array([13]))"
      ]
     },
     "execution_count": 8,
     "metadata": {},
     "output_type": "execute_result"
    }
   ],
   "source": [
    "from scipy import stats\n",
    "stats.mode(ages)"
   ]
  }
 ],
 "metadata": {
  "kernelspec": {
   "display_name": "Python 3",
   "language": "python",
   "name": "python3"
  },
  "language_info": {
   "codemirror_mode": {
    "name": "ipython",
    "version": 3
   },
   "file_extension": ".py",
   "mimetype": "text/x-python",
   "name": "python",
   "nbconvert_exporter": "python",
   "pygments_lexer": "ipython3",
   "version": "3.6.0"
  }
 },
 "nbformat": 4,
 "nbformat_minor": 0
}
